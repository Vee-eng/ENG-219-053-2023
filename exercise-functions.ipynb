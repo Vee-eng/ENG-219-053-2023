{
 "cells": [
  {
   "cell_type": "markdown",
   "id": "0d5f94f5",
   "metadata": {
    "papermill": {
     "duration": 0.005799,
     "end_time": "2025-02-25T22:59:06.727570",
     "exception": false,
     "start_time": "2025-02-25T22:59:06.721771",
     "status": "completed"
    },
    "tags": []
   },
   "source": [
    "**This notebook is an exercise in the [Intro to Programming](https://www.kaggle.com/learn/intro-to-programming) course.  You can reference the tutorial at [this link](https://www.kaggle.com/alexisbcook/functions).**\n",
    "\n",
    "---\n"
   ]
  },
  {
   "cell_type": "markdown",
   "id": "0c0c4894",
   "metadata": {
    "papermill": {
     "duration": 0.00463,
     "end_time": "2025-02-25T22:59:06.737392",
     "exception": false,
     "start_time": "2025-02-25T22:59:06.732762",
     "status": "completed"
    },
    "tags": []
   },
   "source": [
    "In the tutorial, you learned about functions. In this exercise, you'll write some of your own!\n",
    "\n",
    "# Set up the notebook\n",
    "\n",
    "Run the next code cell without changes to set up the notebook."
   ]
  },
  {
   "cell_type": "code",
   "execution_count": 1,
   "id": "ed1070d4",
   "metadata": {
    "execution": {
     "iopub.execute_input": "2025-02-25T22:59:06.748851Z",
     "iopub.status.busy": "2025-02-25T22:59:06.748377Z",
     "iopub.status.idle": "2025-02-25T22:59:07.798329Z",
     "shell.execute_reply": "2025-02-25T22:59:07.797065Z"
    },
    "jupyter": {
     "source_hidden": true
    },
    "papermill": {
     "duration": 1.057916,
     "end_time": "2025-02-25T22:59:07.800223",
     "exception": false,
     "start_time": "2025-02-25T22:59:06.742307",
     "status": "completed"
    },
    "tags": []
   },
   "outputs": [
    {
     "name": "stdout",
     "output_type": "stream",
     "text": [
      "Setup complete.\n"
     ]
    }
   ],
   "source": [
    "# Set up the exercise\n",
    "import math\n",
    "from learntools.core import binder\n",
    "binder.bind(globals())\n",
    "from learntools.intro_to_programming.ex2 import *\n",
    "print('Setup complete.')"
   ]
  },
  {
   "cell_type": "code",
   "execution_count": 2,
   "id": "1c1d7dda",
   "metadata": {
    "execution": {
     "iopub.execute_input": "2025-02-25T22:59:07.812764Z",
     "iopub.status.busy": "2025-02-25T22:59:07.812270Z",
     "iopub.status.idle": "2025-02-25T22:59:07.818405Z",
     "shell.execute_reply": "2025-02-25T22:59:07.816908Z"
    },
    "papermill": {
     "duration": 0.013803,
     "end_time": "2025-02-25T22:59:07.819936",
     "exception": false,
     "start_time": "2025-02-25T22:59:07.806133",
     "status": "completed"
    },
    "tags": []
   },
   "outputs": [
    {
     "name": "stdout",
     "output_type": "stream",
     "text": [
      "Setup complete.\n"
     ]
    }
   ],
   "source": [
    "# Set up the exercise\n",
    "import math\n",
    "from learntools.core import binder\n",
    "binder.bind(globals())\n",
    "from learntools.intro_to_programming.ex2 import *\n",
    "print('Setup complete.')"
   ]
  },
  {
   "cell_type": "markdown",
   "id": "20ee41e9",
   "metadata": {
    "papermill": {
     "duration": 0.005042,
     "end_time": "2025-02-25T22:59:07.830528",
     "exception": false,
     "start_time": "2025-02-25T22:59:07.825486",
     "status": "completed"
    },
    "tags": []
   },
   "source": [
    "# Question 1\n",
    "\n",
    "In the [House Prices - Advanced Regression Techniques competition](https://www.kaggle.com/c/house-prices-advanced-regression-techniques/overview), you need to use information like the number of bedrooms and bathrooms to predict the price of a house.  Inspired by this competition, you'll write your own function to do this.\n",
    "\n",
    "In the next code cell, create a function `get_expected_cost()` that has two arguments:\n",
    "- `beds` - number of bedrooms \n",
    "- `baths` - number of bathrooms\n",
    "\n",
    "It should return the expected cost of a house with that number of bedrooms and bathrooms.  Assume that:\n",
    "- the expected cost for a house with 0 bedrooms and 0 bathrooms is `80000`.  \n",
    "- each bedroom adds `30000` to the expected cost\n",
    "- each bathroom adds `10000` to the expected cost.\n",
    "\n",
    "For instance, \n",
    "- a house with 1 bedroom and 1 bathroom has an expected cost of `120000`, and \n",
    "- a house with 2 bedrooms and 1 bathroom has an expected cost of `150000`."
   ]
  },
  {
   "cell_type": "code",
   "execution_count": 3,
   "id": "f068b915",
   "metadata": {
    "execution": {
     "iopub.execute_input": "2025-02-25T22:59:07.842229Z",
     "iopub.status.busy": "2025-02-25T22:59:07.841806Z",
     "iopub.status.idle": "2025-02-25T22:59:07.850759Z",
     "shell.execute_reply": "2025-02-25T22:59:07.849707Z"
    },
    "papermill": {
     "duration": 0.017131,
     "end_time": "2025-02-25T22:59:07.852738",
     "exception": false,
     "start_time": "2025-02-25T22:59:07.835607",
     "status": "completed"
    },
    "tags": []
   },
   "outputs": [
    {
     "data": {
      "application/javascript": [
       "parent.postMessage({\"jupyterEvent\": \"custom.exercise_interaction\", \"data\": {\"outcomeType\": 1, \"valueTowardsCompletion\": 0.2, \"interactionType\": 1, \"questionType\": 2, \"questionId\": \"1_GetExpectedCost\", \"learnToolsVersion\": \"0.3.4\", \"failureMessage\": \"\", \"exceptionClass\": \"\", \"trace\": \"\"}}, \"*\")"
      ],
      "text/plain": [
       "<IPython.core.display.Javascript object>"
      ]
     },
     "metadata": {},
     "output_type": "display_data"
    },
    {
     "data": {
      "text/markdown": [
       "<span style=\"color:#33cc33\">Correct</span>"
      ],
      "text/plain": [
       "Correct"
      ]
     },
     "metadata": {},
     "output_type": "display_data"
    }
   ],
   "source": [
    "# TODO: Complete the function\n",
    "def get_expected_cost(beds, baths):\n",
    "    value = 80000 + beds * 30000 + baths * 10000\n",
    "    return value\n",
    "\n",
    "# Check your answer \n",
    "q1.check()"
   ]
  },
  {
   "cell_type": "code",
   "execution_count": 4,
   "id": "160df307",
   "metadata": {
    "execution": {
     "iopub.execute_input": "2025-02-25T22:59:07.866204Z",
     "iopub.status.busy": "2025-02-25T22:59:07.865817Z",
     "iopub.status.idle": "2025-02-25T22:59:07.870312Z",
     "shell.execute_reply": "2025-02-25T22:59:07.868919Z"
    },
    "papermill": {
     "duration": 0.013538,
     "end_time": "2025-02-25T22:59:07.872079",
     "exception": false,
     "start_time": "2025-02-25T22:59:07.858541",
     "status": "completed"
    },
    "tags": []
   },
   "outputs": [],
   "source": [
    "# Uncomment to see a hint\n",
    "#q1.hint()\n",
    "\n",
    "# Uncomment to view the solution\n",
    "#q1.solution()"
   ]
  },
  {
   "cell_type": "markdown",
   "id": "19028877",
   "metadata": {
    "papermill": {
     "duration": 0.005203,
     "end_time": "2025-02-25T22:59:07.882917",
     "exception": false,
     "start_time": "2025-02-25T22:59:07.877714",
     "status": "completed"
    },
    "tags": []
   },
   "source": [
    "# Question 2\n",
    "\n",
    "You are thinking about buying a home and want to get an idea of how much you will spend, based on the number of bedrooms and bathrooms.  You are trying to decide between four different options:\n",
    "- Option 1: house with two bedrooms and three bathrooms\n",
    "- Option 2: house with three bedrooms and two bathrooms\n",
    "- Option 3: house with three bedrooms and three bathrooms\n",
    "- Option 4: house with three bedrooms and four bathrooms\n",
    "\n",
    "Use the `get_expected_cost()` function you defined in question 1 to set `option_1`, `option_2`, `option_3`, and `option_4` to the expected cost of each option."
   ]
  },
  {
   "cell_type": "code",
   "execution_count": 5,
   "id": "eb4a6b30",
   "metadata": {
    "execution": {
     "iopub.execute_input": "2025-02-25T22:59:07.894900Z",
     "iopub.status.busy": "2025-02-25T22:59:07.894552Z",
     "iopub.status.idle": "2025-02-25T22:59:07.904858Z",
     "shell.execute_reply": "2025-02-25T22:59:07.903795Z"
    },
    "papermill": {
     "duration": 0.018379,
     "end_time": "2025-02-25T22:59:07.906702",
     "exception": false,
     "start_time": "2025-02-25T22:59:07.888323",
     "status": "completed"
    },
    "tags": []
   },
   "outputs": [
    {
     "name": "stdout",
     "output_type": "stream",
     "text": [
      "170000\n",
      "190000\n",
      "200000\n",
      "210000\n"
     ]
    },
    {
     "data": {
      "application/javascript": [
       "parent.postMessage({\"jupyterEvent\": \"custom.exercise_interaction\", \"data\": {\"outcomeType\": 1, \"valueTowardsCompletion\": 0.2, \"interactionType\": 1, \"questionType\": 1, \"questionId\": \"2_RunGetExpectedCost\", \"learnToolsVersion\": \"0.3.4\", \"failureMessage\": \"\", \"exceptionClass\": \"\", \"trace\": \"\"}}, \"*\")"
      ],
      "text/plain": [
       "<IPython.core.display.Javascript object>"
      ]
     },
     "metadata": {},
     "output_type": "display_data"
    },
    {
     "data": {
      "text/markdown": [
       "<span style=\"color:#33cc33\">Correct</span>"
      ],
      "text/plain": [
       "Correct"
      ]
     },
     "metadata": {},
     "output_type": "display_data"
    }
   ],
   "source": [
    "# TODO: Use the get_expected_cost function to fill in each value\n",
    "option_one = get_expected_cost(2,3)\n",
    "option_two = get_expected_cost(3,2)\n",
    "option_three = get_expected_cost(3,3)\n",
    "option_four = get_expected_cost(3,4)\n",
    "\n",
    "print(option_one)\n",
    "print(option_two)\n",
    "print(option_three)\n",
    "print(option_four)\n",
    "\n",
    "# Check your answer\n",
    "q2.check()"
   ]
  },
  {
   "cell_type": "code",
   "execution_count": 6,
   "id": "457a4840",
   "metadata": {
    "execution": {
     "iopub.execute_input": "2025-02-25T22:59:07.919677Z",
     "iopub.status.busy": "2025-02-25T22:59:07.919331Z",
     "iopub.status.idle": "2025-02-25T22:59:07.923343Z",
     "shell.execute_reply": "2025-02-25T22:59:07.922302Z"
    },
    "papermill": {
     "duration": 0.012196,
     "end_time": "2025-02-25T22:59:07.924827",
     "exception": false,
     "start_time": "2025-02-25T22:59:07.912631",
     "status": "completed"
    },
    "tags": []
   },
   "outputs": [],
   "source": [
    "# Uncomment to see a hint\n",
    "#q2.hint()\n",
    "\n",
    "# Uncomment to view the solution\n",
    "#q2.solution()"
   ]
  },
  {
   "cell_type": "markdown",
   "id": "65f23d01",
   "metadata": {
    "papermill": {
     "duration": 0.005254,
     "end_time": "2025-02-25T22:59:07.935793",
     "exception": false,
     "start_time": "2025-02-25T22:59:07.930539",
     "status": "completed"
    },
    "tags": []
   },
   "source": [
    "# Question 3\n",
    "\n",
    "You're a home decorator, and you'd like to use Python to streamline some of your work.  Specifically, you're creating a tool that you intend to use to calculate the cost of painting a room.\n",
    "\n",
    "As a first step, define a function `get_cost()` that takes as input:\n",
    "- `sqft_walls` = total square feet of walls to be painted\n",
    "- `sqft_ceiling` = square feet of ceiling to be painted\n",
    "- `sqft_per_gallon` = number of square feet that you can cover with one gallon of paint\n",
    "- `cost_per_gallon` = cost (in dollars) of one gallon of paint\n",
    "\n",
    "It should return the cost (in dollars) of putting one coat of paint on all walls and the ceiling.  Assume you can buy the exact amount of paint that you need, so you can buy partial gallons (e.g., if you need 7.523 gallons, you can buy that exact amount, instead of needing to buy 8 gallons and waste some paint).  Do not round your answer."
   ]
  },
  {
   "cell_type": "code",
   "execution_count": 7,
   "id": "b36013f1",
   "metadata": {
    "execution": {
     "iopub.execute_input": "2025-02-25T22:59:07.948530Z",
     "iopub.status.busy": "2025-02-25T22:59:07.948078Z",
     "iopub.status.idle": "2025-02-25T22:59:07.956622Z",
     "shell.execute_reply": "2025-02-25T22:59:07.955617Z"
    },
    "papermill": {
     "duration": 0.017293,
     "end_time": "2025-02-25T22:59:07.958746",
     "exception": false,
     "start_time": "2025-02-25T22:59:07.941453",
     "status": "completed"
    },
    "tags": []
   },
   "outputs": [
    {
     "data": {
      "application/javascript": [
       "parent.postMessage({\"jupyterEvent\": \"custom.exercise_interaction\", \"data\": {\"outcomeType\": 1, \"valueTowardsCompletion\": 0.2, \"interactionType\": 1, \"questionType\": 2, \"questionId\": \"3_GetCostPaint\", \"learnToolsVersion\": \"0.3.4\", \"failureMessage\": \"\", \"exceptionClass\": \"\", \"trace\": \"\"}}, \"*\")"
      ],
      "text/plain": [
       "<IPython.core.display.Javascript object>"
      ]
     },
     "metadata": {},
     "output_type": "display_data"
    },
    {
     "data": {
      "text/markdown": [
       "<span style=\"color:#33cc33\">Correct</span>"
      ],
      "text/plain": [
       "Correct"
      ]
     },
     "metadata": {},
     "output_type": "display_data"
    }
   ],
   "source": [
    "# TODO: Finish defining the function\n",
    "def get_cost(sqft_walls, sqft_ceiling, sqft_per_gallon, cost_per_gallon):\n",
    "    total_sqft = sqft_walls + sqft_ceiling\n",
    "    gallons_needed = total_sqft / sqft_per_gallon\n",
    "    cost = cost_per_gallon * gallons_needed\n",
    "    return cost\n",
    "\n",
    "# Check your answer\n",
    "q3.check()"
   ]
  },
  {
   "cell_type": "code",
   "execution_count": 8,
   "id": "ec513de7",
   "metadata": {
    "execution": {
     "iopub.execute_input": "2025-02-25T22:59:07.972342Z",
     "iopub.status.busy": "2025-02-25T22:59:07.971916Z",
     "iopub.status.idle": "2025-02-25T22:59:07.976074Z",
     "shell.execute_reply": "2025-02-25T22:59:07.974962Z"
    },
    "papermill": {
     "duration": 0.012889,
     "end_time": "2025-02-25T22:59:07.977861",
     "exception": false,
     "start_time": "2025-02-25T22:59:07.964972",
     "status": "completed"
    },
    "tags": []
   },
   "outputs": [],
   "source": [
    "# Uncomment to see a hint\n",
    "#q3.hint()\n",
    "\n",
    "# Uncomment to view the solution\n",
    "#q3.solution()"
   ]
  },
  {
   "cell_type": "markdown",
   "id": "4b0f4d11",
   "metadata": {
    "papermill": {
     "duration": 0.005794,
     "end_time": "2025-02-25T22:59:07.991890",
     "exception": false,
     "start_time": "2025-02-25T22:59:07.986096",
     "status": "completed"
    },
    "tags": []
   },
   "source": [
    "# Question 4\n",
    "\n",
    "Use the `get_cost()` function you defined in Question 3 to calculate the cost of applying one coat of paint to a room with:\n",
    "- 432 square feet of walls, and\n",
    "- 144 square feet of ceiling.\n",
    "\n",
    "Assume that one gallon of paint covers 400 square feet and costs $15.  As in Question 3, assume you can buy partial gallons of paint.  Do not round your answer."
   ]
  },
  {
   "cell_type": "code",
   "execution_count": 9,
   "id": "52ba5da2",
   "metadata": {
    "execution": {
     "iopub.execute_input": "2025-02-25T22:59:08.005911Z",
     "iopub.status.busy": "2025-02-25T22:59:08.005570Z",
     "iopub.status.idle": "2025-02-25T22:59:08.013620Z",
     "shell.execute_reply": "2025-02-25T22:59:08.012635Z"
    },
    "papermill": {
     "duration": 0.017935,
     "end_time": "2025-02-25T22:59:08.015711",
     "exception": false,
     "start_time": "2025-02-25T22:59:07.997776",
     "status": "completed"
    },
    "tags": []
   },
   "outputs": [
    {
     "data": {
      "application/javascript": [
       "parent.postMessage({\"jupyterEvent\": \"custom.exercise_interaction\", \"data\": {\"outcomeType\": 1, \"valueTowardsCompletion\": 0.2, \"interactionType\": 1, \"questionType\": 1, \"questionId\": \"4_GetCostPaintExample\", \"learnToolsVersion\": \"0.3.4\", \"failureMessage\": \"\", \"exceptionClass\": \"\", \"trace\": \"\"}}, \"*\")"
      ],
      "text/plain": [
       "<IPython.core.display.Javascript object>"
      ]
     },
     "metadata": {},
     "output_type": "display_data"
    },
    {
     "data": {
      "text/markdown": [
       "<span style=\"color:#33cc33\">Correct</span>"
      ],
      "text/plain": [
       "Correct"
      ]
     },
     "metadata": {},
     "output_type": "display_data"
    }
   ],
   "source": [
    "# TODO: Set the project_cost variable to the cost of the project\n",
    "project_cost =  get_cost(432, 144, 400, 15) \n",
    "# Check your answer\n",
    "q4.check()"
   ]
  },
  {
   "cell_type": "code",
   "execution_count": 10,
   "id": "1c5dc325",
   "metadata": {
    "execution": {
     "iopub.execute_input": "2025-02-25T22:59:08.030479Z",
     "iopub.status.busy": "2025-02-25T22:59:08.030031Z",
     "iopub.status.idle": "2025-02-25T22:59:08.034443Z",
     "shell.execute_reply": "2025-02-25T22:59:08.033335Z"
    },
    "papermill": {
     "duration": 0.014028,
     "end_time": "2025-02-25T22:59:08.036325",
     "exception": false,
     "start_time": "2025-02-25T22:59:08.022297",
     "status": "completed"
    },
    "tags": []
   },
   "outputs": [],
   "source": [
    "# Uncomment to see a hint\n",
    "#q4.hint()\n",
    "\n",
    "# Uncomment to view the solution\n",
    "#q4.solution()"
   ]
  },
  {
   "cell_type": "markdown",
   "id": "406ddea0",
   "metadata": {
    "papermill": {
     "duration": 0.005989,
     "end_time": "2025-02-25T22:59:08.048615",
     "exception": false,
     "start_time": "2025-02-25T22:59:08.042626",
     "status": "completed"
    },
    "tags": []
   },
   "source": [
    "# 🌶️ Question 5\n",
    "\n",
    "Now say you can no longer buy fractions of a gallon.  (For instance, if you need 4.3 gallons to do a project, then you have to buy 5 gallons of paint.)\n",
    "\n",
    "With this new scenario, you will create a new function `get_actual_cost` that uses the same inputs and calculates the cost of your project.\n",
    "\n",
    "One function that you'll need to use to do this is `math.ceil()`.  We demonstrate usage of this function in the code cell below.  It takes as a number as input and rounds the number up to the nearest integer.  \n",
    "\n",
    "Run the next code cell to test this function for yourself.  Feel free to change the value of `test_value` and make sure `math.ceil()` returns the number you expect."
   ]
  },
  {
   "cell_type": "code",
   "execution_count": 11,
   "id": "7543a664",
   "metadata": {
    "execution": {
     "iopub.execute_input": "2025-02-25T22:59:08.062413Z",
     "iopub.status.busy": "2025-02-25T22:59:08.061923Z",
     "iopub.status.idle": "2025-02-25T22:59:08.066909Z",
     "shell.execute_reply": "2025-02-25T22:59:08.065878Z"
    },
    "papermill": {
     "duration": 0.013796,
     "end_time": "2025-02-25T22:59:08.068718",
     "exception": false,
     "start_time": "2025-02-25T22:59:08.054922",
     "status": "completed"
    },
    "tags": []
   },
   "outputs": [
    {
     "name": "stdout",
     "output_type": "stream",
     "text": [
      "3\n"
     ]
    }
   ],
   "source": [
    "test_value = 2.17\n",
    "\n",
    "rounded_value = math.ceil(test_value)\n",
    "print(rounded_value)"
   ]
  },
  {
   "cell_type": "markdown",
   "id": "20556064",
   "metadata": {
    "papermill": {
     "duration": 0.006014,
     "end_time": "2025-02-25T22:59:08.081117",
     "exception": false,
     "start_time": "2025-02-25T22:59:08.075103",
     "status": "completed"
    },
    "tags": []
   },
   "source": [
    "Use the next code cell to define the function `get_actual_cost()`.  You'll need to use the `math.ceil()` function to do this.\n",
    "\n",
    "When answering this question, note that it's completely valid to define a function that makes use of another function.  For instance, we can define a function `round_up_and_divide_by_three` that makes use of the `math.ceil` function:\n",
    "```\n",
    "def round_up_and_divide_by_three(num):\n",
    "    new_value = math.ceil(num)\n",
    "    final_value = new_value / 3\n",
    "    return final_value\n",
    "```"
   ]
  },
  {
   "cell_type": "code",
   "execution_count": 12,
   "id": "6b794986",
   "metadata": {
    "execution": {
     "iopub.execute_input": "2025-02-25T22:59:08.095082Z",
     "iopub.status.busy": "2025-02-25T22:59:08.094724Z",
     "iopub.status.idle": "2025-02-25T22:59:08.102792Z",
     "shell.execute_reply": "2025-02-25T22:59:08.101791Z"
    },
    "papermill": {
     "duration": 0.017006,
     "end_time": "2025-02-25T22:59:08.104564",
     "exception": false,
     "start_time": "2025-02-25T22:59:08.087558",
     "status": "completed"
    },
    "tags": []
   },
   "outputs": [
    {
     "data": {
      "application/javascript": [
       "parent.postMessage({\"jupyterEvent\": \"custom.exercise_interaction\", \"data\": {\"outcomeType\": 1, \"valueTowardsCompletion\": 0.2, \"interactionType\": 1, \"questionType\": 2, \"questionId\": \"5_NoMoreFractions\", \"learnToolsVersion\": \"0.3.4\", \"failureMessage\": \"\", \"exceptionClass\": \"\", \"trace\": \"\"}}, \"*\")"
      ],
      "text/plain": [
       "<IPython.core.display.Javascript object>"
      ]
     },
     "metadata": {},
     "output_type": "display_data"
    },
    {
     "data": {
      "text/markdown": [
       "<span style=\"color:#33cc33\">Correct</span>"
      ],
      "text/plain": [
       "Correct"
      ]
     },
     "metadata": {},
     "output_type": "display_data"
    }
   ],
   "source": [
    "def get_actual_cost(sqft_walls, sqft_ceiling, sqft_per_gallon, cost_per_gallon):\n",
    "    total_sqft = sqft_walls + sqft_ceiling\n",
    "    gallons_needed = total_sqft / sqft_per_gallon\n",
    "    gallons_to_buy = math.ceil(gallons_needed)\n",
    "    cost = cost_per_gallon * gallons_to_buy\n",
    "    return cost\n",
    "\n",
    "# Check your answer\n",
    "q5.check()"
   ]
  },
  {
   "cell_type": "code",
   "execution_count": 13,
   "id": "d9fa28cb",
   "metadata": {
    "execution": {
     "iopub.execute_input": "2025-02-25T22:59:08.118956Z",
     "iopub.status.busy": "2025-02-25T22:59:08.118608Z",
     "iopub.status.idle": "2025-02-25T22:59:08.122507Z",
     "shell.execute_reply": "2025-02-25T22:59:08.121558Z"
    },
    "papermill": {
     "duration": 0.013212,
     "end_time": "2025-02-25T22:59:08.124412",
     "exception": false,
     "start_time": "2025-02-25T22:59:08.111200",
     "status": "completed"
    },
    "tags": []
   },
   "outputs": [],
   "source": [
    "# Uncomment to see a hint\n",
    "#q5.hint()\n",
    "\n",
    "# Uncomment to view the solution\n",
    "#q5.solution()"
   ]
  },
  {
   "cell_type": "markdown",
   "id": "01e8c93f",
   "metadata": {
    "papermill": {
     "duration": 0.006187,
     "end_time": "2025-02-25T22:59:08.137278",
     "exception": false,
     "start_time": "2025-02-25T22:59:08.131091",
     "status": "completed"
    },
    "tags": []
   },
   "source": [
    "Once your function is verified as correct, run the next code cell to calculate the updated cost of your project."
   ]
  },
  {
   "cell_type": "code",
   "execution_count": 14,
   "id": "18c1165c",
   "metadata": {
    "execution": {
     "iopub.execute_input": "2025-02-25T22:59:08.151793Z",
     "iopub.status.busy": "2025-02-25T22:59:08.151406Z",
     "iopub.status.idle": "2025-02-25T22:59:08.157275Z",
     "shell.execute_reply": "2025-02-25T22:59:08.156314Z"
    },
    "papermill": {
     "duration": 0.014902,
     "end_time": "2025-02-25T22:59:08.158883",
     "exception": false,
     "start_time": "2025-02-25T22:59:08.143981",
     "status": "completed"
    },
    "tags": []
   },
   "outputs": [
    {
     "data": {
      "text/plain": [
       "30"
      ]
     },
     "execution_count": 14,
     "metadata": {},
     "output_type": "execute_result"
    }
   ],
   "source": [
    "get_actual_cost(432, 144, 400, 15) "
   ]
  },
  {
   "cell_type": "markdown",
   "id": "5ca5b0d3",
   "metadata": {
    "papermill": {
     "duration": 0.006045,
     "end_time": "2025-02-25T22:59:08.171557",
     "exception": false,
     "start_time": "2025-02-25T22:59:08.165512",
     "status": "completed"
    },
    "tags": []
   },
   "source": [
    "Say you're working with a slightly larger room.  Run the next code cell to calculate the cost of the project."
   ]
  },
  {
   "cell_type": "code",
   "execution_count": 15,
   "id": "005b27ce",
   "metadata": {
    "execution": {
     "iopub.execute_input": "2025-02-25T22:59:08.185710Z",
     "iopub.status.busy": "2025-02-25T22:59:08.185364Z",
     "iopub.status.idle": "2025-02-25T22:59:08.191137Z",
     "shell.execute_reply": "2025-02-25T22:59:08.190078Z"
    },
    "papermill": {
     "duration": 0.01504,
     "end_time": "2025-02-25T22:59:08.193014",
     "exception": false,
     "start_time": "2025-02-25T22:59:08.177974",
     "status": "completed"
    },
    "tags": []
   },
   "outputs": [
    {
     "data": {
      "text/plain": [
       "45"
      ]
     },
     "execution_count": 15,
     "metadata": {},
     "output_type": "execute_result"
    }
   ],
   "source": [
    "get_actual_cost(594, 288, 400, 15) "
   ]
  },
  {
   "cell_type": "markdown",
   "id": "864e2f35",
   "metadata": {
    "papermill": {
     "duration": 0.006552,
     "end_time": "2025-02-25T22:59:08.206551",
     "exception": false,
     "start_time": "2025-02-25T22:59:08.199999",
     "status": "completed"
    },
    "tags": []
   },
   "source": [
    "# Keep going\n",
    "\n",
    "Continue to learn about **[data types](https://www.kaggle.com/alexisbcook/data-types)**."
   ]
  },
  {
   "cell_type": "markdown",
   "id": "022ff499",
   "metadata": {
    "papermill": {
     "duration": 0.006659,
     "end_time": "2025-02-25T22:59:08.219749",
     "exception": false,
     "start_time": "2025-02-25T22:59:08.213090",
     "status": "completed"
    },
    "tags": []
   },
   "source": [
    "---\n",
    "\n",
    "\n",
    "\n",
    "\n",
    "*Have questions or comments? Visit the [course discussion forum](https://www.kaggle.com/learn/intro-to-programming/discussion) to chat with other learners.*"
   ]
  }
 ],
 "metadata": {
  "kaggle": {
   "accelerator": "none",
   "dataSources": [],
   "isGpuEnabled": false,
   "isInternetEnabled": false,
   "language": "python",
   "sourceType": "notebook"
  },
  "kernelspec": {
   "display_name": "Python 3",
   "language": "python",
   "name": "python3"
  },
  "language_info": {
   "codemirror_mode": {
    "name": "ipython",
    "version": 3
   },
   "file_extension": ".py",
   "mimetype": "text/x-python",
   "name": "python",
   "nbconvert_exporter": "python",
   "pygments_lexer": "ipython3",
   "version": "3.10.12"
  },
  "papermill": {
   "default_parameters": {},
   "duration": 5.041052,
   "end_time": "2025-02-25T22:59:08.846622",
   "environment_variables": {},
   "exception": null,
   "input_path": "__notebook__.ipynb",
   "output_path": "__notebook__.ipynb",
   "parameters": {},
   "start_time": "2025-02-25T22:59:03.805570",
   "version": "2.6.0"
  }
 },
 "nbformat": 4,
 "nbformat_minor": 5
}
